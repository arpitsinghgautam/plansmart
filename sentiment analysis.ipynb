{
 "cells": [
  {
   "cell_type": "code",
   "execution_count": 1,
   "id": "6536b856-bcf7-47b0-90b5-dea1863c76f6",
   "metadata": {
    "collapsed": true,
    "jupyter": {
     "outputs_hidden": true
    },
    "tags": []
   },
   "outputs": [
    {
     "name": "stdout",
     "output_type": "stream",
     "text": [
      "Requirement already satisfied: transformers in c:\\users\\arpit\\appdata\\roaming\\python\\python38\\site-packages (4.28.0)\n",
      "Requirement already satisfied: requests in c:\\users\\arpit\\appdata\\roaming\\python\\python38\\site-packages (2.28.2)\n",
      "Requirement already satisfied: beautifulsoup4 in c:\\users\\arpit\\anaconda3\\envs\\intel_internship\\lib\\site-packages (4.12.2)\n",
      "Requirement already satisfied: pandas in c:\\users\\arpit\\appdata\\roaming\\python\\python38\\site-packages (1.5.3)\n",
      "Requirement already satisfied: numpy in c:\\users\\arpit\\appdata\\roaming\\python\\python38\\site-packages (1.23.5)\n",
      "Requirement already satisfied: filelock in c:\\users\\arpit\\appdata\\roaming\\python\\python38\\site-packages (from transformers) (3.10.7)\n",
      "Requirement already satisfied: huggingface-hub<1.0,>=0.11.0 in c:\\users\\arpit\\appdata\\roaming\\python\\python38\\site-packages (from transformers) (0.13.4)\n",
      "Requirement already satisfied: packaging>=20.0 in c:\\users\\arpit\\appdata\\roaming\\python\\python38\\site-packages (from transformers) (23.0)\n",
      "Requirement already satisfied: pyyaml>=5.1 in c:\\users\\arpit\\appdata\\roaming\\python\\python38\\site-packages (from transformers) (6.0)\n",
      "Requirement already satisfied: regex!=2019.12.17 in c:\\users\\arpit\\appdata\\roaming\\python\\python38\\site-packages (from transformers) (2023.3.23)\n",
      "Requirement already satisfied: tokenizers!=0.11.3,<0.14,>=0.11.1 in c:\\users\\arpit\\appdata\\roaming\\python\\python38\\site-packages (from transformers) (0.13.3)\n",
      "Requirement already satisfied: tqdm>=4.27 in c:\\users\\arpit\\appdata\\roaming\\python\\python38\\site-packages (from transformers) (4.65.0)\n",
      "Requirement already satisfied: charset-normalizer<4,>=2 in c:\\users\\arpit\\appdata\\roaming\\python\\python38\\site-packages (from requests) (3.1.0)\n",
      "Requirement already satisfied: idna<4,>=2.5 in c:\\users\\arpit\\appdata\\roaming\\python\\python38\\site-packages (from requests) (3.4)\n",
      "Requirement already satisfied: urllib3<1.27,>=1.21.1 in c:\\users\\arpit\\appdata\\roaming\\python\\python38\\site-packages (from requests) (1.26.15)\n",
      "Requirement already satisfied: certifi>=2017.4.17 in c:\\users\\arpit\\appdata\\roaming\\python\\python38\\site-packages (from requests) (2022.12.7)\n",
      "Requirement already satisfied: soupsieve>1.2 in c:\\users\\arpit\\anaconda3\\envs\\intel_internship\\lib\\site-packages (from beautifulsoup4) (2.4)\n",
      "Requirement already satisfied: python-dateutil>=2.8.1 in c:\\users\\arpit\\appdata\\roaming\\python\\python38\\site-packages (from pandas) (2.8.2)\n",
      "Requirement already satisfied: pytz>=2020.1 in c:\\users\\arpit\\appdata\\roaming\\python\\python38\\site-packages (from pandas) (2023.3)\n",
      "Requirement already satisfied: typing-extensions>=3.7.4.3 in c:\\users\\arpit\\appdata\\roaming\\python\\python38\\site-packages (from huggingface-hub<1.0,>=0.11.0->transformers) (4.5.0)\n",
      "Requirement already satisfied: six>=1.5 in c:\\users\\arpit\\appdata\\roaming\\python\\python38\\site-packages (from python-dateutil>=2.8.1->pandas) (1.16.0)\n",
      "Requirement already satisfied: colorama in c:\\users\\arpit\\appdata\\roaming\\python\\python38\\site-packages (from tqdm>=4.27->transformers) (0.4.6)\n"
     ]
    }
   ],
   "source": [
    "!pip install transformers requests beautifulsoup4 pandas numpy"
   ]
  },
  {
   "cell_type": "code",
   "execution_count": 31,
   "id": "8a155483-ba78-446f-b0cc-950a6f3d322f",
   "metadata": {},
   "outputs": [],
   "source": [
    "# Importing the Dependencies\n",
    "from transformers import AutoTokenizer, AutoModelForSequenceClassification\n",
    "import torch\n",
    "import requests\n",
    "from bs4 import BeautifulSoup\n",
    "import re\n",
    "import pandas as pd"
   ]
  },
  {
   "cell_type": "code",
   "execution_count": 32,
   "id": "e527ab36-2a16-4603-943d-cba7aaaa0728",
   "metadata": {},
   "outputs": [],
   "source": [
    "# Instantiating the Model\n",
    "tokenizer = AutoTokenizer.from_pretrained('nlptown/bert-base-multilingual-uncased-sentiment')\n",
    "model = AutoModelForSequenceClassification.from_pretrained('nlptown/bert-base-multilingual-uncased-sentiment')"
   ]
  },
  {
   "cell_type": "markdown",
   "id": "235b13c5-1f89-417e-ac9c-5d989e75acdc",
   "metadata": {},
   "source": [
    "Checking out the working of pretrained Sentiment Model"
   ]
  },
  {
   "cell_type": "code",
   "execution_count": 33,
   "id": "6513a2d6-cb69-4149-ad71-68b49c2d28bd",
   "metadata": {},
   "outputs": [
    {
     "name": "stdout",
     "output_type": "stream",
     "text": [
      "The Output is a number on scale where 1 = Worst Review , 5 = Best Review\n",
      "I love you  =  5\n",
      "I hate you  =  1\n",
      "You are ok  =  3\n",
      "This Course is great but could have been better  =  4\n",
      "Thankyou, this helped me a lot  =  5\n"
     ]
    }
   ],
   "source": [
    "input_list = [\"I love you\", \"I hate you\", \"You are ok\", \"This Course is great but could have been better\", \"Thankyou, this helped me a lot\"]\n",
    "print(\"The Output is a number on scale where 1 = Worst Review , 5 = Best Review\")\n",
    "for input_text in input_list:\n",
    "    tokens = tokenizer.encode(input_text, return_tensors='pt')\n",
    "    result = model(tokens)\n",
    "    result.logits\n",
    "    output = int(torch.argmax(result.logits))+1\n",
    "    print(input_text,\" = \",output)"
   ]
  },
  {
   "cell_type": "code",
   "execution_count": null,
   "id": "a64772f9-8e7a-48d1-aa70-69eef1fbb383",
   "metadata": {},
   "outputs": [],
   "source": []
  },
  {
   "cell_type": "code",
   "execution_count": null,
   "id": "1cf13929-bd1c-4dca-b1c4-bc3d5fda835c",
   "metadata": {},
   "outputs": [],
   "source": []
  },
  {
   "cell_type": "code",
   "execution_count": null,
   "id": "a4ee9701-19bd-4cc9-a207-19bbd4595193",
   "metadata": {},
   "outputs": [],
   "source": []
  }
 ],
 "metadata": {
  "kernelspec": {
   "display_name": "Python 3 (ipykernel)",
   "language": "python",
   "name": "python3"
  },
  "language_info": {
   "codemirror_mode": {
    "name": "ipython",
    "version": 3
   },
   "file_extension": ".py",
   "mimetype": "text/x-python",
   "name": "python",
   "nbconvert_exporter": "python",
   "pygments_lexer": "ipython3",
   "version": "3.8.16"
  }
 },
 "nbformat": 4,
 "nbformat_minor": 5
}
